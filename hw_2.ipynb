{
 "cells": [
  {
   "cell_type": "code",
   "execution_count": 2,
   "metadata": {},
   "outputs": [],
   "source": [
    "import numpy as np"
   ]
  },
  {
   "cell_type": "markdown",
   "metadata": {},
   "source": [
    "1. Найти скалярное произведение векторов \n",
    "𝑥,𝑦∈ℝ:\n",
    "\n",
    "а) \n",
    "𝑥=(0,−3,6), 𝑦=(−4,7,9);\n",
    "\n",
    "б) \n",
    "𝑥=(7,−4,0,1), 𝑦=(−3,1,11,2)."
   ]
  },
  {
   "cell_type": "code",
   "execution_count": 27,
   "metadata": {},
   "outputs": [],
   "source": [
    "x = np.array((0,-3,6))\n",
    "y = np.array((-4,7,9))"
   ]
  },
  {
   "cell_type": "code",
   "execution_count": 28,
   "metadata": {},
   "outputs": [
    {
     "name": "stdout",
     "output_type": "stream",
     "text": [
      "33\n"
     ]
    },
    {
     "data": {
      "text/plain": [
       "True"
      ]
     },
     "execution_count": 28,
     "metadata": {},
     "output_type": "execute_result"
    }
   ],
   "source": [
    "xy= 0\n",
    "for i,j in zip(x,y):\n",
    "    xy+=i*j\n",
    "print(xy) \n",
    "np_answer = np.dot(x,y)\n",
    "xy==np_answer"
   ]
  },
  {
   "cell_type": "code",
   "execution_count": 29,
   "metadata": {},
   "outputs": [],
   "source": [
    "x = np.array((7,-4,0,1))\n",
    "y = np.array((-3,1,11,2))"
   ]
  },
  {
   "cell_type": "code",
   "execution_count": 30,
   "metadata": {},
   "outputs": [
    {
     "name": "stdout",
     "output_type": "stream",
     "text": [
      "-23\n"
     ]
    },
    {
     "data": {
      "text/plain": [
       "True"
      ]
     },
     "execution_count": 30,
     "metadata": {},
     "output_type": "execute_result"
    }
   ],
   "source": [
    "xy= 0\n",
    "for i,j in zip(x,y):\n",
    "    xy+=i*j\n",
    "print(xy) \n",
    "np_answer = np.dot(x,y)\n",
    "xy==np_answer"
   ]
  },
  {
   "cell_type": "code",
   "execution_count": 31,
   "metadata": {},
   "outputs": [
    {
     "data": {
      "text/plain": [
       "-23"
      ]
     },
     "execution_count": 31,
     "metadata": {},
     "output_type": "execute_result"
    }
   ],
   "source": [
    "# или так\n",
    "(x*y).sum()"
   ]
  },
  {
   "cell_type": "markdown",
   "metadata": {},
   "source": [
    "2. Найти нормы векторов\n",
    "\n",
    "(4,2,4)\n",
    "(12, 3, 4)\n",
    "\n",
    "и угол между ними."
   ]
  },
  {
   "cell_type": "code",
   "execution_count": 44,
   "metadata": {},
   "outputs": [],
   "source": [
    "x = np.array((4,2,4))\n",
    "y = np.array((12, 3, 4))"
   ]
  },
  {
   "cell_type": "code",
   "execution_count": 43,
   "metadata": {},
   "outputs": [
    {
     "name": "stdout",
     "output_type": "stream",
     "text": [
      "6.0\n"
     ]
    },
    {
     "data": {
      "text/plain": [
       "True"
      ]
     },
     "execution_count": 43,
     "metadata": {},
     "output_type": "execute_result"
    }
   ],
   "source": [
    "n_x = np.sqrt((x**2).sum())\n",
    "print(n_x )\n",
    "n_x == np.linalg.norm(x,ord = 2)"
   ]
  },
  {
   "cell_type": "code",
   "execution_count": 45,
   "metadata": {},
   "outputs": [
    {
     "name": "stdout",
     "output_type": "stream",
     "text": [
      "13.0\n"
     ]
    },
    {
     "data": {
      "text/plain": [
       "True"
      ]
     },
     "execution_count": 45,
     "metadata": {},
     "output_type": "execute_result"
    }
   ],
   "source": [
    "n_y = np.sqrt((y**2).sum())\n",
    "print(n_y )\n",
    "n_y == np.linalg.norm(y,ord = 2)"
   ]
  },
  {
   "cell_type": "code",
   "execution_count": 47,
   "metadata": {},
   "outputs": [
    {
     "data": {
      "text/plain": [
       "0.8974358974358975"
      ]
     },
     "execution_count": 47,
     "metadata": {},
     "output_type": "execute_result"
    }
   ],
   "source": [
    "cos = x.dot(y)/(n_x*n_y)\n",
    "cos"
   ]
  },
  {
   "cell_type": "markdown",
   "metadata": {},
   "source": [
    "__3.__ Будет ли линейное пространство евклидовым, если за скалярное произведение принять:<br>\n",
    "а) произведение длин векторов;<br>\n",
    "б) утроенное обычное скалярное произведение векторов?\n",
    "   "
   ]
  },
  {
   "cell_type": "markdown",
   "metadata": {},
   "source": [
    "РЕШЕНИЕ:"
   ]
  },
  {
   "cell_type": "markdown",
   "metadata": {},
   "source": [
    "\n",
    "Определение\n",
    "Линейное пространство над полем вещественных чисел называется евклидовым пространством_, если на нем введено правило, согласно которому каждой упорядоченной паре векторов \n",
    "𝑥\n",
    "x\n",
    "и \n",
    "𝑦\n",
    "y\n",
    "поставлено в соответствие вещественное число, называемое _скалярным произведением и обозначаемое символом \n",
    "(𝑥,𝑦)\n",
    "(x,y)\n",
    ".\n",
    "При этом указанное правило должно подчиняться четырем аксиомам:\n",
    " \n",
    "1. (𝑥,𝑦)=(𝑦,𝑥);\n",
    "\n",
    "\n",
    "2. (𝜆𝑥,𝑦)=𝜆(𝑥,𝑦);\n",
    "\n",
    "\n",
    "3. \n",
    "(\n",
    "𝑥\n",
    "1\n",
    "+\n",
    "𝑥\n",
    "2\n",
    ",𝑦)=(\n",
    "𝑥\n",
    "1\n",
    ",𝑦)+(\n",
    "𝑥\n",
    "2\n",
    ",𝑦);\n",
    "\n",
    "\n",
    "4. \n",
    "(𝑥,𝑥)≥0 , причем \n",
    "(𝑥,𝑥)=0⇔𝑥=0.\n"
   ]
  },
  {
   "cell_type": "code",
   "execution_count": 57,
   "metadata": {},
   "outputs": [],
   "source": [
    "# Возмем три вектора\n",
    "x = np.array((4,2,4))\n",
    "y = np.array((12, 3, 4))\n",
    "z = np.array((1, 3, 2))\n",
    "lam = 3\n"
   ]
  },
  {
   "cell_type": "code",
   "execution_count": 59,
   "metadata": {},
   "outputs": [
    {
     "data": {
      "text/plain": [
       "82.70429251254133"
      ]
     },
     "execution_count": 59,
     "metadata": {},
     "output_type": "execute_result"
    }
   ],
   "source": [
    "# если за скалярное произведение принять:  произведение длин векторов;\n",
    "x_y = np.sqrt((x*2).sum())*np.sqrt((y*2).sum())\n",
    "lam*x_y"
   ]
  },
  {
   "cell_type": "code",
   "execution_count": 61,
   "metadata": {},
   "outputs": [
    {
     "data": {
      "text/plain": [
       "47.749345545253284"
      ]
     },
     "execution_count": 61,
     "metadata": {},
     "output_type": "execute_result"
    }
   ],
   "source": [
    "x1=lam*x\n",
    "np.sqrt((x1*2).sum())*np.sqrt((y*2).sum())"
   ]
  },
  {
   "cell_type": "markdown",
   "metadata": {},
   "source": [
    "Как видно второе правило не выполняется. таким образом не соответсвует определнию Евклидого пространства"
   ]
  },
  {
   "cell_type": "markdown",
   "metadata": {},
   "source": [
    "утроенное обычное скалярное произведение векторов? -В этом случае все 4 условия выпоняются"
   ]
  },
  {
   "cell_type": "code",
   "execution_count": 68,
   "metadata": {},
   "outputs": [
    {
     "data": {
      "text/plain": [
       "141"
      ]
     },
     "execution_count": 68,
     "metadata": {},
     "output_type": "execute_result"
    }
   ],
   "source": [
    "x.dot(z)*3 + y.dot(z)*3"
   ]
  },
  {
   "cell_type": "markdown",
   "metadata": {},
   "source": [
    "__4.__ Какие из нижеперечисленных векторов образуют ортонормированный базис в линейном пространстве $\\mathbb{R}^{3}$:<br>\n",
    "а) $(1,0,0),(0,0,1);$ <br>\n",
    "б) $(1/\\sqrt{2},-1/\\sqrt{2},0),(1/\\sqrt{2},1/\\sqrt{2},0), (0,0,1);$<br>\n",
    "в) $(1/2, -1/2, 0), (0, 1/2, 1/2), (0,0,1);$<br>\n",
    "г) $(1,0,0),(0,1,0),(0,0,1)?$ "
   ]
  },
  {
   "cell_type": "markdown",
   "metadata": {},
   "source": [
    "# а\n",
    "Базис для прострнства R3 должен состоять из 3 векторов. Два вектора не могут образовать базис"
   ]
  },
  {
   "cell_type": "code",
   "execution_count": 85,
   "metadata": {},
   "outputs": [],
   "source": [
    "# b\n",
    "x = np.array((1/(2**(1/2)),-1/(2**(1/2)),0))\n",
    "y = np.array((1/(2**(1/2)), 1/(2**(1/2)), 0))\n",
    "z = np.array((0, 0, 1))"
   ]
  },
  {
   "cell_type": "code",
   "execution_count": 90,
   "metadata": {},
   "outputs": [
    {
     "name": "stdout",
     "output_type": "stream",
     "text": [
      "0.9999999999999999 0.9999999999999999 1.0\n"
     ]
    }
   ],
   "source": [
    "l_x = np.sqrt(x.dot(x))\n",
    "l_y = np.sqrt(y.dot(y))\n",
    "l_z = np.sqrt(z.dot(z))\n",
    "print(l_x,l_y,l_z)"
   ]
  },
  {
   "cell_type": "markdown",
   "metadata": {},
   "source": [
    "Как видно все длинные имееют единичный размер"
   ]
  },
  {
   "cell_type": "code",
   "execution_count": 92,
   "metadata": {},
   "outputs": [
    {
     "name": "stdout",
     "output_type": "stream",
     "text": [
      "0.0\n",
      "0.0\n",
      "0.0\n"
     ]
    }
   ],
   "source": [
    "print(x.dot(y))\n",
    "print(x.dot(z))\n",
    "print(y.dot(z))"
   ]
  },
  {
   "cell_type": "markdown",
   "metadata": {},
   "source": [
    "Все ортоганальны - могут являться базисом"
   ]
  },
  {
   "cell_type": "code",
   "execution_count": 95,
   "metadata": {},
   "outputs": [],
   "source": [
    "x = np.array((1/2,-1/2,0))\n",
    "y = np.array((0,1/2,1/2))\n",
    "z = np.array((0, 0, 1))"
   ]
  },
  {
   "cell_type": "code",
   "execution_count": 96,
   "metadata": {},
   "outputs": [
    {
     "name": "stdout",
     "output_type": "stream",
     "text": [
      "0.7071067811865476 0.7071067811865476 1.0\n"
     ]
    }
   ],
   "source": [
    "l_x = np.sqrt(x.dot(x))\n",
    "l_y = np.sqrt(y.dot(y))\n",
    "l_z = np.sqrt(z.dot(z))\n",
    "print(l_x,l_y,l_z)"
   ]
  },
  {
   "cell_type": "markdown",
   "metadata": {},
   "source": [
    "Длинны  векторов не единичной длинный не могут образовать ортонормированный базис"
   ]
  },
  {
   "cell_type": "markdown",
   "metadata": {},
   "source": [
    "Последний вариант классический ортонормированный базис"
   ]
  },
  {
   "cell_type": "code",
   "execution_count": null,
   "metadata": {},
   "outputs": [],
   "source": []
  }
 ],
 "metadata": {
  "kernelspec": {
   "display_name": "Python 3",
   "language": "python",
   "name": "python3"
  },
  "language_info": {
   "codemirror_mode": {
    "name": "ipython",
    "version": 3
   },
   "file_extension": ".py",
   "mimetype": "text/x-python",
   "name": "python",
   "nbconvert_exporter": "python",
   "pygments_lexer": "ipython3",
   "version": "3.7.4"
  }
 },
 "nbformat": 4,
 "nbformat_minor": 2
}
